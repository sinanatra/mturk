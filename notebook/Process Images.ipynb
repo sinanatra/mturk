{
 "cells": [
  {
   "cell_type": "code",
   "execution_count": 2,
   "id": "3fd4451f-f18d-46be-b35c-e301b9811ddf",
   "metadata": {},
   "outputs": [],
   "source": [
    "from geopy.geocoders import Nominatim\n",
    "import time\n",
    "from pprint import pprint\n",
    "import csv\n",
    "import urllib.request\n",
    "from PIL import Image\n",
    "app = Nominatim(user_agent=\"getlocation\")"
   ]
  },
  {
   "cell_type": "markdown",
   "id": "6a1f4da8-b125-42c1-aceb-d4e39c11da48",
   "metadata": {},
   "source": [
    "### Geolocate"
   ]
  },
  {
   "cell_type": "code",
   "execution_count": 3,
   "id": "dac639ac",
   "metadata": {},
   "outputs": [],
   "source": [
    "csvFile = \"../static/desktop.csv\""
   ]
  },
  {
   "cell_type": "code",
   "execution_count": 11,
   "id": "667cbb20-2e36-4ca0-ac61-572975875475",
   "metadata": {
    "tags": []
   },
   "outputs": [
    {
     "name": "stdout",
     "output_type": "stream",
     "text": [
      "Column names are time, photo, city, id\n",
      "Undefined, US\n",
      "Albuquerque, US\n",
      "Village of Suffern, US\n",
      "Undefined, IN\n",
      "London, GB\n",
      "Undefined, US\n",
      "Austin, US\n",
      "Iowa City, US\n",
      "Undefined, BR\n",
      "St. Augustine, US\n",
      "Holyoke, US\n",
      "Thành phố Hạ Long, VN\n",
      "Lawrenceburg, US\n",
      "Undefined, US\n",
      "Perimetro Urbano Pereira, CO\n",
      "Undefined, US\n",
      "Undefined, US\n",
      "Undefined, US\n",
      "Cedar City, US\n",
      "Undefined, US\n",
      "Bolingbrook, US\n",
      "Bolingbrook, US\n",
      "Undefined, US\n",
      "Undefined, IN\n",
      "Undefined, US\n",
      "Gijón / Xixón, ES\n",
      "Undefined, IN\n",
      "Undefined, US\n",
      "New Britain, US\n",
      "City of New York, US\n",
      "City of London, GB\n",
      "Undefined, IN\n",
      "Chennai, IN\n",
      "City of New York, US\n",
      "Undefined, US\n",
      "Richmond, US\n",
      "San Antonio, US\n",
      "Pflugerville, US\n",
      "Rescaldina, IT\n",
      "Kottayam, IN\n",
      "Undefined, US\n",
      "Undefined, US\n",
      "Caracas, VE\n",
      "Chennai, IN\n",
      "Undefined, US\n",
      "Undefined, CA\n",
      "Undefined, US\n",
      "Undefined, US\n",
      "Kalamazoo, US\n",
      "Undefined, US\n",
      "Sheffield, GB\n",
      "Rancho Cordova, US\n",
      "Salem, US\n",
      "Undefined, US\n",
      "Kanyakumari, IN\n",
      "Kanyakumari, IN\n",
      "Undefined, US\n",
      "Undefined, US\n",
      "Houston, US\n",
      "Undefined, US\n",
      "Undefined, US\n",
      "Indianapolis, US\n",
      "Indianapolis, US\n",
      "Undefined, US\n",
      "Stockholms kommun, SE\n",
      "Undefined, US\n",
      "Undefined, IN\n",
      "Ajmer, IN\n",
      "Milwaukee, US\n",
      "Milwaukee, US\n",
      "Milwaukee, US\n",
      "Milwaukee, US\n",
      "Milwaukee, US\n",
      "Riva del Garda, IT\n",
      "Undefined, IN\n",
      "Undefined, US\n",
      "Undefined, US\n",
      "Seattle, US\n",
      "Fullerton, US\n",
      "Old Toronto, CA\n",
      "City of New York, US\n",
      "Portland, US\n",
      "Undefined, US\n",
      "Roseville, US\n",
      "Undefined, CA\n",
      "Undefined, US\n",
      "Salt Lake City, US\n",
      "Beacon Falls, US\n",
      "Undefined, IN\n",
      "Undefined, IN\n",
      "Undefined, US\n",
      "Hazleton, US\n",
      "Orlando, US\n",
      "Aveiro, PT\n",
      "Undefined, US\n",
      "Undefined, US\n",
      "Undefined, US\n",
      "Ahmedabad, IN\n",
      "Δημοτική Ενότητα Πυλαίας, GR\n",
      "Long Beach, US\n",
      "District Heights, US\n",
      "Kozhikode, IN\n",
      "City of New York, US\n",
      "Wilmington, US\n",
      "Wilmington, US\n",
      "Undefined, GB\n",
      "Undefined, GB\n",
      "Gurnee, US\n",
      "Longmont, US\n",
      "Undefined, GB\n",
      "Bennettsville, US\n",
      "Bennettsville, US\n",
      "Processed 113 lines.\n"
     ]
    }
   ],
   "source": [
    "f = open(\"out.tsv\", \"w\")\n",
    "f.write(\"img\\tcity\\tLatitude\\tLongitude\\n\")\n",
    "\n",
    "with open(csvFile) as csv_file:\n",
    "    csv_reader = csv.reader(csv_file, delimiter=',')\n",
    "    line_count = 0\n",
    "    for row in csv_reader:\n",
    "        if line_count == 0:\n",
    "            print(f'Column names are {\", \".join(row)}')\n",
    "            line_count += 1\n",
    "        else:   \n",
    "            photo = row[1]\n",
    "            # geolocate\n",
    "            city = row[2]\n",
    "            \n",
    "            location = app.geocode(city, addressdetails=True)\n",
    "\n",
    "            if location is not None:\n",
    "                lon = location.raw[\"lon\"]\n",
    "                lat = location.raw[\"lat\"]\n",
    "                #print(location['address'])\n",
    "                #zipText = location['address']['postcode']\n",
    "                cityText = \"Undefined\"\n",
    "                \n",
    "                if \"city\" in location.raw['address']:\n",
    "                    cityText = location.raw['address']['city']\n",
    "                elif \"town\" in location.raw['address']:\n",
    "                    cityText = location.raw['address']['town']\n",
    "                elif \"village\" in location.raw['address']:\n",
    "                    cityText = location.raw['address']['village']\n",
    "                    \n",
    "                countryText = location.raw['address']['country_code']\n",
    "\n",
    "                locText = cityText +\", \"+countryText.upper()\n",
    "                print(locText)\n",
    "        \n",
    "                f.write(photo+\"\\t\"+locText+\"\\t\"+lat+\"\\t\"+lon+\"\\n\")\n",
    "                line_count += 1\n",
    "    print(f'Processed {line_count} lines.')\n",
    "\n",
    "f.close()"
   ]
  },
  {
   "cell_type": "markdown",
   "id": "24b695f7-3340-4725-bbe4-3e59c6aead22",
   "metadata": {},
   "source": [
    "### Remove ID Files"
   ]
  },
  {
   "cell_type": "code",
   "execution_count": 18,
   "id": "59be18fd-b0f0-42d1-ba56-2c1586fe31d5",
   "metadata": {},
   "outputs": [
    {
     "ename": "IndexError",
     "evalue": "list index out of range",
     "output_type": "error",
     "traceback": [
      "\u001b[0;31m---------------------------------------------------------------------------\u001b[0m",
      "\u001b[0;31mIndexError\u001b[0m                                Traceback (most recent call last)",
      "Cell \u001b[0;32mIn[18], line 6\u001b[0m\n\u001b[1;32m      4\u001b[0m \u001b[38;5;28;01mfor\u001b[39;00m i, filename \u001b[38;5;129;01min\u001b[39;00m \u001b[38;5;28menumerate\u001b[39m(os\u001b[38;5;241m.\u001b[39mlistdir(collection)):\n\u001b[1;32m      5\u001b[0m     rename \u001b[38;5;241m=\u001b[39m filename\u001b[38;5;241m.\u001b[39msplit(\u001b[38;5;124m\"\u001b[39m\u001b[38;5;124m-\u001b[39m\u001b[38;5;124m\"\u001b[39m)[\u001b[38;5;241m0\u001b[39m]\n\u001b[0;32m----> 6\u001b[0m     path \u001b[38;5;241m=\u001b[39m \u001b[43mfilename\u001b[49m\u001b[38;5;241;43m.\u001b[39;49m\u001b[43msplit\u001b[49m\u001b[43m(\u001b[49m\u001b[38;5;124;43m\"\u001b[39;49m\u001b[38;5;124;43m.\u001b[39;49m\u001b[38;5;124;43m\"\u001b[39;49m\u001b[43m)\u001b[49m\u001b[43m[\u001b[49m\u001b[38;5;241;43m1\u001b[39;49m\u001b[43m]\u001b[49m\n\u001b[1;32m      7\u001b[0m     \u001b[38;5;28mprint\u001b[39m(path)\n\u001b[1;32m      8\u001b[0m     \u001b[38;5;66;03m# os.rename(collection + filename, collection + rename)\u001b[39;00m\n",
      "\u001b[0;31mIndexError\u001b[0m: list index out of range"
     ]
    }
   ],
   "source": [
    "import os\n",
    "os.getcwd()\n",
    "collection = \"/Users/giacomonanni/Library/CloudStorage/GoogleDrive-gn.nanni@gmail.com/My Drive/Work/Self Initiated/Turks2/Desktop photos (File responses)/Upload a photo of your desktop   working setup (File responses)/\"\n",
    "for i, filename in enumerate(os.listdir(collection)):\n",
    "    rename = filename.split(\"-\")[0]\n",
    "    path = filename.split(\".\")[1]\n",
    "    os.rename(collection + filename, collection + rename + \".\" + path)"
   ]
  },
  {
   "cell_type": "code",
   "execution_count": 86,
   "id": "3a8d89fd-5a84-4259-9587-1c60dc7b1ac0",
   "metadata": {},
   "outputs": [],
   "source": [
    "newpath = 'data_crop' \n",
    "os.makedirs(newpath, exist_ok=True)  "
   ]
  },
  {
   "cell_type": "code",
   "execution_count": 93,
   "id": "3f5c8369-f55b-4888-8df5-85d0dfecc1ab",
   "metadata": {},
   "outputs": [
    {
     "ename": "OSError",
     "evalue": "cannot write mode RGBA as JPEG",
     "output_type": "error",
     "traceback": [
      "\u001b[0;31m---------------------------------------------------------------------------\u001b[0m",
      "\u001b[0;31mKeyError\u001b[0m                                  Traceback (most recent call last)",
      "\u001b[0;32m~/opt/anaconda3/lib/python3.8/site-packages/PIL/JpegImagePlugin.py\u001b[0m in \u001b[0;36m_save\u001b[0;34m(im, fp, filename)\u001b[0m\n\u001b[1;32m    629\u001b[0m     \u001b[0;32mtry\u001b[0m\u001b[0;34m:\u001b[0m\u001b[0;34m\u001b[0m\u001b[0;34m\u001b[0m\u001b[0m\n\u001b[0;32m--> 630\u001b[0;31m         \u001b[0mrawmode\u001b[0m \u001b[0;34m=\u001b[0m \u001b[0mRAWMODE\u001b[0m\u001b[0;34m[\u001b[0m\u001b[0mim\u001b[0m\u001b[0;34m.\u001b[0m\u001b[0mmode\u001b[0m\u001b[0;34m]\u001b[0m\u001b[0;34m\u001b[0m\u001b[0;34m\u001b[0m\u001b[0m\n\u001b[0m\u001b[1;32m    631\u001b[0m     \u001b[0;32mexcept\u001b[0m \u001b[0mKeyError\u001b[0m \u001b[0;32mas\u001b[0m \u001b[0me\u001b[0m\u001b[0;34m:\u001b[0m\u001b[0;34m\u001b[0m\u001b[0;34m\u001b[0m\u001b[0m\n",
      "\u001b[0;31mKeyError\u001b[0m: 'RGBA'",
      "\nThe above exception was the direct cause of the following exception:\n",
      "\u001b[0;31mOSError\u001b[0m                                   Traceback (most recent call last)",
      "\u001b[0;32m/var/folders/01/g8q594p16jdbfy7_9m8l3w940000gn/T/ipykernel_2928/1146444503.py\u001b[0m in \u001b[0;36m<module>\u001b[0;34m\u001b[0m\n\u001b[1;32m     15\u001b[0m \u001b[0;34m\u001b[0m\u001b[0m\n\u001b[1;32m     16\u001b[0m \u001b[0;34m\u001b[0m\u001b[0m\n\u001b[0;32m---> 17\u001b[0;31m \u001b[0mresize_aspect_fit\u001b[0m\u001b[0;34m(\u001b[0m\u001b[0;34m)\u001b[0m\u001b[0;34m\u001b[0m\u001b[0;34m\u001b[0m\u001b[0m\n\u001b[0m",
      "\u001b[0;32m/var/folders/01/g8q594p16jdbfy7_9m8l3w940000gn/T/ipykernel_2928/1146444503.py\u001b[0m in \u001b[0;36mresize_aspect_fit\u001b[0;34m()\u001b[0m\n\u001b[1;32m     12\u001b[0m         \u001b[0;32mif\u001b[0m \u001b[0mos\u001b[0m\u001b[0;34m.\u001b[0m\u001b[0mpath\u001b[0m\u001b[0;34m.\u001b[0m\u001b[0misfile\u001b[0m\u001b[0;34m(\u001b[0m\u001b[0mpath\u001b[0m\u001b[0;34m+\u001b[0m\u001b[0mitem\u001b[0m\u001b[0;34m)\u001b[0m\u001b[0;34m:\u001b[0m\u001b[0;34m\u001b[0m\u001b[0;34m\u001b[0m\u001b[0m\n\u001b[1;32m     13\u001b[0m             \u001b[0mim\u001b[0m \u001b[0;34m=\u001b[0m \u001b[0mImage\u001b[0m\u001b[0;34m.\u001b[0m\u001b[0mopen\u001b[0m\u001b[0;34m(\u001b[0m\u001b[0mpath\u001b[0m\u001b[0;34m+\u001b[0m\u001b[0mitem\u001b[0m\u001b[0;34m)\u001b[0m\u001b[0;34m\u001b[0m\u001b[0;34m\u001b[0m\u001b[0m\n\u001b[0;32m---> 14\u001b[0;31m             \u001b[0mim\u001b[0m\u001b[0;34m.\u001b[0m\u001b[0msave\u001b[0m\u001b[0;34m(\u001b[0m\u001b[0mpath\u001b[0m\u001b[0;34m+\u001b[0m\u001b[0mitem\u001b[0m\u001b[0;34m,\u001b[0m\u001b[0mquality\u001b[0m\u001b[0;34m=\u001b[0m\u001b[0;36m90\u001b[0m\u001b[0;34m,\u001b[0m\u001b[0moptimize\u001b[0m\u001b[0;34m=\u001b[0m\u001b[0;32mTrue\u001b[0m\u001b[0;34m)\u001b[0m\u001b[0;34m\u001b[0m\u001b[0;34m\u001b[0m\u001b[0m\n\u001b[0m\u001b[1;32m     15\u001b[0m \u001b[0;34m\u001b[0m\u001b[0m\n\u001b[1;32m     16\u001b[0m \u001b[0;34m\u001b[0m\u001b[0m\n",
      "\u001b[0;32m~/opt/anaconda3/lib/python3.8/site-packages/PIL/Image.py\u001b[0m in \u001b[0;36msave\u001b[0;34m(self, fp, format, **params)\u001b[0m\n\u001b[1;32m   2210\u001b[0m \u001b[0;34m\u001b[0m\u001b[0m\n\u001b[1;32m   2211\u001b[0m         \u001b[0;32mtry\u001b[0m\u001b[0;34m:\u001b[0m\u001b[0;34m\u001b[0m\u001b[0;34m\u001b[0m\u001b[0m\n\u001b[0;32m-> 2212\u001b[0;31m             \u001b[0msave_handler\u001b[0m\u001b[0;34m(\u001b[0m\u001b[0mself\u001b[0m\u001b[0;34m,\u001b[0m \u001b[0mfp\u001b[0m\u001b[0;34m,\u001b[0m \u001b[0mfilename\u001b[0m\u001b[0;34m)\u001b[0m\u001b[0;34m\u001b[0m\u001b[0;34m\u001b[0m\u001b[0m\n\u001b[0m\u001b[1;32m   2213\u001b[0m         \u001b[0;32mfinally\u001b[0m\u001b[0;34m:\u001b[0m\u001b[0;34m\u001b[0m\u001b[0;34m\u001b[0m\u001b[0m\n\u001b[1;32m   2214\u001b[0m             \u001b[0;31m# do what we can to clean up\u001b[0m\u001b[0;34m\u001b[0m\u001b[0;34m\u001b[0m\u001b[0;34m\u001b[0m\u001b[0m\n",
      "\u001b[0;32m~/opt/anaconda3/lib/python3.8/site-packages/PIL/JpegImagePlugin.py\u001b[0m in \u001b[0;36m_save\u001b[0;34m(im, fp, filename)\u001b[0m\n\u001b[1;32m    630\u001b[0m         \u001b[0mrawmode\u001b[0m \u001b[0;34m=\u001b[0m \u001b[0mRAWMODE\u001b[0m\u001b[0;34m[\u001b[0m\u001b[0mim\u001b[0m\u001b[0;34m.\u001b[0m\u001b[0mmode\u001b[0m\u001b[0;34m]\u001b[0m\u001b[0;34m\u001b[0m\u001b[0;34m\u001b[0m\u001b[0m\n\u001b[1;32m    631\u001b[0m     \u001b[0;32mexcept\u001b[0m \u001b[0mKeyError\u001b[0m \u001b[0;32mas\u001b[0m \u001b[0me\u001b[0m\u001b[0;34m:\u001b[0m\u001b[0;34m\u001b[0m\u001b[0;34m\u001b[0m\u001b[0m\n\u001b[0;32m--> 632\u001b[0;31m         \u001b[0;32mraise\u001b[0m \u001b[0mOSError\u001b[0m\u001b[0;34m(\u001b[0m\u001b[0;34mf\"cannot write mode {im.mode} as JPEG\"\u001b[0m\u001b[0;34m)\u001b[0m \u001b[0;32mfrom\u001b[0m \u001b[0me\u001b[0m\u001b[0;34m\u001b[0m\u001b[0;34m\u001b[0m\u001b[0m\n\u001b[0m\u001b[1;32m    633\u001b[0m \u001b[0;34m\u001b[0m\u001b[0m\n\u001b[1;32m    634\u001b[0m     \u001b[0minfo\u001b[0m \u001b[0;34m=\u001b[0m \u001b[0mim\u001b[0m\u001b[0;34m.\u001b[0m\u001b[0mencoderinfo\u001b[0m\u001b[0;34m\u001b[0m\u001b[0;34m\u001b[0m\u001b[0m\n",
      "\u001b[0;31mOSError\u001b[0m: cannot write mode RGBA as JPEG"
     ]
    }
   ],
   "source": [
    "from PIL import Image\n",
    "import os, sys\n",
    "\n",
    "path = \"data/\"\n",
    "dirs = os.listdir( path )\n",
    "final_size = 1000;\n",
    "\n",
    "def resize_aspect_fit():\n",
    "    for item in dirs:\n",
    "        if item == '.DS_Store':\n",
    "            continue\n",
    "        if os.path.isfile(path+item):\n",
    "            im = Image.open(path+item)\n",
    "            im.save(path+item,quality=90,optimize=True)\n",
    "\n",
    "            \n",
    "resize_aspect_fit()"
   ]
  }
 ],
 "metadata": {
  "kernelspec": {
   "display_name": "Python 3 (ipykernel)",
   "language": "python",
   "name": "python3"
  },
  "language_info": {
   "codemirror_mode": {
    "name": "ipython",
    "version": 3
   },
   "file_extension": ".py",
   "mimetype": "text/x-python",
   "name": "python",
   "nbconvert_exporter": "python",
   "pygments_lexer": "ipython3",
   "version": "3.12.2"
  }
 },
 "nbformat": 4,
 "nbformat_minor": 5
}
